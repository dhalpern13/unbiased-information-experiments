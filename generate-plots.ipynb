{
 "cells": [
  {
   "cell_type": "code",
   "execution_count": 1,
   "metadata": {
    "collapsed": true
   },
   "outputs": [],
   "source": [
    "from itertools import product\n",
    "from os import path\n",
    "\n",
    "import matplotlib.pyplot as plt\n",
    "import pandas as pd\n"
   ]
  },
  {
   "cell_type": "code",
   "execution_count": 2,
   "outputs": [],
   "source": [
    "results = pd.read_csv('data/results-all.csv')\n",
    "\n",
    "algs = results.columns[5:]\n",
    "noise_distributions = results.noise_distribution.unique()\n",
    "k_vals = results.k.unique()\n",
    "m_vals = results.m.unique()\n",
    "slopes = results.slope.unique()"
   ],
   "metadata": {
    "collapsed": false,
    "pycharm": {
     "name": "#%%\n"
    }
   }
  },
  {
   "cell_type": "code",
   "execution_count": 3,
   "outputs": [],
   "source": [
    "abs_suffix = '_abs'\n",
    "squared_suffix = '_squared'\n",
    "\n",
    "for alg in algs:\n",
    "    results[alg + abs_suffix] = results[alg].abs()\n",
    "    results[alg + squared_suffix] = results[alg].pow(2)"
   ],
   "metadata": {
    "collapsed": false,
    "pycharm": {
     "name": "#%%\n"
    }
   }
  },
  {
   "cell_type": "code",
   "execution_count": 4,
   "outputs": [],
   "source": [
    "groups = results.groupby(['noise_distribution', 'slope', 'm', 'k'])\n",
    "\n",
    "def fixed_sem(series):\n",
    "    return series.sem()\n",
    "\n",
    "means = groups.mean().reset_index()\n",
    "# For some reason groups.sem() causes an error\n",
    "errors = groups.agg(fixed_sem).reset_index()"
   ],
   "metadata": {
    "collapsed": false,
    "pycharm": {
     "name": "#%%\n"
    }
   }
  },
  {
   "cell_type": "code",
   "execution_count": 11,
   "outputs": [],
   "source": [
    "def create_plot(square, noise_dist, slope, m, file_name):\n",
    "    plt.clf()\n",
    "    if square:\n",
    "        suffix = squared_suffix\n",
    "        ylabel = 'Mean squared bias'\n",
    "    else:\n",
    "        suffix = abs_suffix\n",
    "        ylabel = 'Mean bias'\n",
    "\n",
    "    means_filtered = means[(means.noise_distribution == noise_dist)\n",
    "                                & (means.slope == slope)\n",
    "                                & (means.m == m)]\n",
    "    errors_filtered = errors[(errors.noise_distribution == noise_dist)\n",
    "                                & (errors.slope == slope)\n",
    "                                & (errors.m == m)]\n",
    "\n",
    "\n",
    "    x_vals = [str(i) for i in k_vals]\n",
    "    for alg in algs:\n",
    "        y_vals = means_filtered[alg + suffix]\n",
    "        alg_errors = errors_filtered[alg + suffix]\n",
    "        if y_vals.isnull().all():\n",
    "            continue\n",
    "        plt.errorbar(x_vals, y_vals, yerr=alg_errors, marker = \"s\", label=alg, capsize=4)\n",
    "\n",
    "    plt.xlabel(\"K value\")\n",
    "    plt.ylabel(ylabel)\n",
    "\n",
    "    plt.yscale('log')\n",
    "    file_path = path.join('plots', file_name)\n",
    "    # plt.show()\n",
    "    plt.savefig(file_path, format='pdf')\n",
    "    plt.close()"
   ],
   "metadata": {
    "collapsed": false,
    "pycharm": {
     "name": "#%%\n"
    }
   }
  },
  {
   "cell_type": "code",
   "execution_count": 12,
   "outputs": [],
   "source": [
    "for square, noise_dist, slope, m in product([True, False], noise_distributions, slopes, m_vals):\n",
    "    file_name = f'{\"square\" if square else \"abs\"}-noise={noise_dist}-m={m}-slope={slope}.pdf'\n",
    "    create_plot(square, noise_dist, slope, m, file_name)"
   ],
   "metadata": {
    "collapsed": false,
    "pycharm": {
     "name": "#%%\n"
    }
   }
  },
  {
   "cell_type": "code",
   "execution_count": null,
   "outputs": [],
   "source": [],
   "metadata": {
    "collapsed": false,
    "pycharm": {
     "name": "#%%\n"
    }
   }
  }
 ],
 "metadata": {
  "kernelspec": {
   "display_name": "Python 3",
   "language": "python",
   "name": "python3"
  },
  "language_info": {
   "codemirror_mode": {
    "name": "ipython",
    "version": 2
   },
   "file_extension": ".py",
   "mimetype": "text/x-python",
   "name": "python",
   "nbconvert_exporter": "python",
   "pygments_lexer": "ipython2",
   "version": "2.7.6"
  }
 },
 "nbformat": 4,
 "nbformat_minor": 0
}