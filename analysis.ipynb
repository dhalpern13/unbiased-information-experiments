{
 "cells": [
  {
   "cell_type": "code",
   "execution_count": 1,
   "metadata": {
    "collapsed": true
   },
   "outputs": [],
   "source": [
    "import pandas as pd\n",
    "import matplotlib.pyplot as plt"
   ]
  },
  {
   "cell_type": "code",
   "execution_count": 22,
   "outputs": [
    {
     "data": {
      "text/plain": "                                 row_id     noise_distribution  slope  m    k  \\\n0  7b7879e9-be85-4e9e-b51e-619a6220eb25          uniform(-2,2)      1  3    5   \n1  d639d981-2328-41d8-afd3-8d5922bb0f25          uniform(-2,2)      1  3  100   \n2  c47347ec-7bad-4390-bbec-eea6909b7ee1         normal(0,.5^2)      1  3    5   \n3  991b79c3-e4c8-4a6f-832a-c7318f8381e7         normal(0,.5^2)      1  3  100   \n4  b8b2d68c-c034-4ef2-9af2-d93daaa5bad2     beta(2-2)-mirrored      1  3    5   \n5  f9e25025-e111-4f73-8689-6556cdec9bc2     beta(2-2)-mirrored      1  3  100   \n6  7e9dface-0012-4078-8737-d41dbc892be7  power-law(2)-mirrored      1  3    5   \n7  82b72a24-af2a-4bb0-b431-439f1b18fce1  power-law(2)-mirrored      1  3  100   \n\n        all  partition  random_1  random_(10*km)  random_1000       opt  \n0 -0.507045  -0.101840 -0.416129        0.010635     0.010635  0.010635  \n1  0.023594  -0.003956 -0.076222        0.000471     0.002985       NaN  \n2  0.107956   0.154588 -0.630696       -0.000211    -0.000211 -0.000211  \n3 -0.012895   0.001105  0.101219       -0.000080     0.000674       NaN  \n4  0.108580   0.079105  0.086055       -0.003020    -0.003020 -0.003020  \n5 -0.028536  -0.002372 -0.170432       -0.000158    -0.000218       NaN  \n6  0.102620   0.020635  0.397346       -0.008106    -0.005472 -0.005472  \n7  0.018402  -0.011330 -0.000861        0.000058     0.000362       NaN  ",
      "text/html": "<div>\n<style scoped>\n    .dataframe tbody tr th:only-of-type {\n        vertical-align: middle;\n    }\n\n    .dataframe tbody tr th {\n        vertical-align: top;\n    }\n\n    .dataframe thead th {\n        text-align: right;\n    }\n</style>\n<table border=\"1\" class=\"dataframe\">\n  <thead>\n    <tr style=\"text-align: right;\">\n      <th></th>\n      <th>row_id</th>\n      <th>noise_distribution</th>\n      <th>slope</th>\n      <th>m</th>\n      <th>k</th>\n      <th>all</th>\n      <th>partition</th>\n      <th>random_1</th>\n      <th>random_(10*km)</th>\n      <th>random_1000</th>\n      <th>opt</th>\n    </tr>\n  </thead>\n  <tbody>\n    <tr>\n      <th>0</th>\n      <td>7b7879e9-be85-4e9e-b51e-619a6220eb25</td>\n      <td>uniform(-2,2)</td>\n      <td>1</td>\n      <td>3</td>\n      <td>5</td>\n      <td>-0.507045</td>\n      <td>-0.101840</td>\n      <td>-0.416129</td>\n      <td>0.010635</td>\n      <td>0.010635</td>\n      <td>0.010635</td>\n    </tr>\n    <tr>\n      <th>1</th>\n      <td>d639d981-2328-41d8-afd3-8d5922bb0f25</td>\n      <td>uniform(-2,2)</td>\n      <td>1</td>\n      <td>3</td>\n      <td>100</td>\n      <td>0.023594</td>\n      <td>-0.003956</td>\n      <td>-0.076222</td>\n      <td>0.000471</td>\n      <td>0.002985</td>\n      <td>NaN</td>\n    </tr>\n    <tr>\n      <th>2</th>\n      <td>c47347ec-7bad-4390-bbec-eea6909b7ee1</td>\n      <td>normal(0,.5^2)</td>\n      <td>1</td>\n      <td>3</td>\n      <td>5</td>\n      <td>0.107956</td>\n      <td>0.154588</td>\n      <td>-0.630696</td>\n      <td>-0.000211</td>\n      <td>-0.000211</td>\n      <td>-0.000211</td>\n    </tr>\n    <tr>\n      <th>3</th>\n      <td>991b79c3-e4c8-4a6f-832a-c7318f8381e7</td>\n      <td>normal(0,.5^2)</td>\n      <td>1</td>\n      <td>3</td>\n      <td>100</td>\n      <td>-0.012895</td>\n      <td>0.001105</td>\n      <td>0.101219</td>\n      <td>-0.000080</td>\n      <td>0.000674</td>\n      <td>NaN</td>\n    </tr>\n    <tr>\n      <th>4</th>\n      <td>b8b2d68c-c034-4ef2-9af2-d93daaa5bad2</td>\n      <td>beta(2-2)-mirrored</td>\n      <td>1</td>\n      <td>3</td>\n      <td>5</td>\n      <td>0.108580</td>\n      <td>0.079105</td>\n      <td>0.086055</td>\n      <td>-0.003020</td>\n      <td>-0.003020</td>\n      <td>-0.003020</td>\n    </tr>\n    <tr>\n      <th>5</th>\n      <td>f9e25025-e111-4f73-8689-6556cdec9bc2</td>\n      <td>beta(2-2)-mirrored</td>\n      <td>1</td>\n      <td>3</td>\n      <td>100</td>\n      <td>-0.028536</td>\n      <td>-0.002372</td>\n      <td>-0.170432</td>\n      <td>-0.000158</td>\n      <td>-0.000218</td>\n      <td>NaN</td>\n    </tr>\n    <tr>\n      <th>6</th>\n      <td>7e9dface-0012-4078-8737-d41dbc892be7</td>\n      <td>power-law(2)-mirrored</td>\n      <td>1</td>\n      <td>3</td>\n      <td>5</td>\n      <td>0.102620</td>\n      <td>0.020635</td>\n      <td>0.397346</td>\n      <td>-0.008106</td>\n      <td>-0.005472</td>\n      <td>-0.005472</td>\n    </tr>\n    <tr>\n      <th>7</th>\n      <td>82b72a24-af2a-4bb0-b431-439f1b18fce1</td>\n      <td>power-law(2)-mirrored</td>\n      <td>1</td>\n      <td>3</td>\n      <td>100</td>\n      <td>0.018402</td>\n      <td>-0.011330</td>\n      <td>-0.000861</td>\n      <td>0.000058</td>\n      <td>0.000362</td>\n      <td>NaN</td>\n    </tr>\n  </tbody>\n</table>\n</div>"
     },
     "execution_count": 22,
     "metadata": {},
     "output_type": "execute_result"
    }
   ],
   "source": [
    "results = pd.read_csv('data/test.csv')\n",
    "# results = pd.read_csv('data/results-new.csv')\n",
    "opt_results = pd.read_csv('data/results-opt.csv')\n",
    "\n",
    "algs = results.columns[5:]\n",
    "\n",
    "results"
   ],
   "metadata": {
    "collapsed": false,
    "pycharm": {
     "name": "#%%\n"
    }
   }
  },
  {
   "cell_type": "code",
   "execution_count": 21,
   "outputs": [],
   "source": [
    "def mean_abs(series):\n",
    "    return series.abs().mean()\n",
    "\n",
    "def mean_square(series):\n",
    "    return series.pow(2).mean()\n",
    "\n",
    "\n",
    "groups_rest = results.groupby(['noise_distribution', 'slope', 'm', 'k'])\n",
    "groups_opt = opt_results.groupby(['noise_distribution', 'slope', 'm', 'k'])\n",
    "\n",
    "mean_abs_rest = groups_rest.agg(mean_abs).reset_index()\n",
    "mean_square_rest = groups_rest.agg(mean_square).reset_index()\n",
    "mean_abs_opt = groups_opt.agg(mean_abs).reset_index()\n",
    "mean_square_opt = groups_opt.agg(mean_square).reset_index()"
   ],
   "metadata": {
    "collapsed": false,
    "pycharm": {
     "name": "#%%\n"
    }
   }
  },
  {
   "cell_type": "code",
   "execution_count": 9,
   "outputs": [],
   "source": [
    "def plot_data(square, noise_dist_index, slope, m, plot_algs, disp_opt):\n",
    "\n",
    "    if square:\n",
    "        rest_data = mean_square_rest\n",
    "        opt_data = mean_square_opt\n",
    "    else:\n",
    "        rest_data = mean_abs_rest\n",
    "        opt_data = mean_abs_opt\n",
    "\n",
    "    noise_dist = rest_data.noise_distribution.unique()[noise_dist_index]\n",
    "    print(noise_dist)\n",
    "\n",
    "\n",
    "    rest_data_filtered = rest_data[(rest_data.noise_distribution == noise_dist)\n",
    "                                & (rest_data.slope == slope)\n",
    "                                & (rest_data.m == m)]\n",
    "\n",
    "\n",
    "    x_vals = [str(i) for i in rest_data.k.unique()]\n",
    "    for alg in plot_algs:\n",
    "        y_vals = rest_data_filtered[alg]\n",
    "        plt.plot(x_vals, y_vals, label = alg)\n",
    "\n",
    "    if disp_opt:\n",
    "        opt_data_filtered = opt_data[(opt_data.noise_distribution == noise_dist)\n",
    "                                    & (opt_data.slope == slope)\n",
    "                                    & (opt_data.m == m)]\n",
    "        opt_vals = opt_data_filtered.opt\n",
    "        plt.plot(x_vals[:len(opt_vals)], opt_vals, label = 'opt')\n",
    "\n",
    "    plt.yscale('log')\n",
    "    plt.legend(loc=\"upper right\")\n",
    "    plt.show()"
   ],
   "metadata": {
    "collapsed": false,
    "pycharm": {
     "name": "#%%\n"
    }
   }
  },
  {
   "cell_type": "code",
   "execution_count": 19,
   "outputs": [
    {
     "name": "stdout",
     "output_type": "stream",
     "text": [
      "normal(0,.5^2)\n"
     ]
    },
    {
     "data": {
      "text/plain": "<Figure size 432x288 with 1 Axes>",
      "image/png": "[encoded data removed]"
     },
     "metadata": {
      "needs_background": "light"
     },
     "output_type": "display_data"
    }
   ],
   "source": [
    "square = True\n",
    "noise_dist_index = 1\n",
    "slope = 5\n",
    "m = 3\n",
    "plot_algs = algs\n",
    "disp_opt = True\n",
    "\n",
    "plot_data(square, noise_dist_index, slope, m, plot_algs, disp_opt)\n"
   ],
   "metadata": {
    "collapsed": false,
    "pycharm": {
     "name": "#%%\n"
    }
   }
  },
  {
   "cell_type": "code",
   "execution_count": 86,
   "outputs": [],
   "source": [],
   "metadata": {
    "collapsed": false,
    "pycharm": {
     "name": "#%%\n"
    }
   }
  }
 ],
 "metadata": {
  "kernelspec": {
   "display_name": "Python 3",
   "language": "python",
   "name": "python3"
  },
  "language_info": {
   "codemirror_mode": {
    "name": "ipython",
    "version": 2
   },
   "file_extension": ".py",
   "mimetype": "text/x-python",
   "name": "python",
   "nbconvert_exporter": "python",
   "pygments_lexer": "ipython2",
   "version": "2.7.6"
  }
 },
 "nbformat": 4,
 "nbformat_minor": 0
}