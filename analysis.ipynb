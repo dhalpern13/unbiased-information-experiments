{
 "cells": [
  {
   "cell_type": "code",
   "execution_count": 7,
   "metadata": {
    "collapsed": true
   },
   "outputs": [],
   "source": [
    "import pandas as pd"
   ]
  },
  {
   "cell_type": "code",
   "execution_count": 12,
   "outputs": [
    {
     "data": {
      "text/plain": "   noise_distribution  linear_model_slope   m    k  iteration       all  \\\n0     uniform(-.3,.3)                   0   3    5          0 -0.055635   \n1     uniform(-.3,.3)                   0   3    5          1  0.000090   \n2     uniform(-.3,.3)                   0   3   20          0  0.018566   \n3     uniform(-.3,.3)                   0   3   20          1  0.018984   \n4     uniform(-.3,.3)                   0   3   50          0  0.002803   \n..                ...                 ...  ..  ...        ...       ...   \n91     normal(0,.2^2)                   1  20   20          1 -0.018103   \n92     normal(0,.2^2)                   1  20   50          0  0.010249   \n93     normal(0,.2^2)                   1  20   50          1 -0.007016   \n94     normal(0,.2^2)                   1  20  100          0 -0.002322   \n95     normal(0,.2^2)                   1  20  100          1 -0.000312   \n\n    partition  random_1000  \n0   -0.063569     0.000052  \n1   -0.008620    -0.000041  \n2    0.007558    -0.000016  \n3    0.035986    -0.000030  \n4   -0.003709     0.000032  \n..        ...          ...  \n91   0.002784    -0.000272  \n92   0.002374     0.000037  \n93   0.003198    -0.000068  \n94   0.000360    -0.000078  \n95   0.001908     0.000013  \n\n[96 rows x 8 columns]",
      "text/html": "<div>\n<style scoped>\n    .dataframe tbody tr th:only-of-type {\n        vertical-align: middle;\n    }\n\n    .dataframe tbody tr th {\n        vertical-align: top;\n    }\n\n    .dataframe thead th {\n        text-align: right;\n    }\n</style>\n<table border=\"1\" class=\"dataframe\">\n  <thead>\n    <tr style=\"text-align: right;\">\n      <th></th>\n      <th>noise_distribution</th>\n      <th>linear_model_slope</th>\n      <th>m</th>\n      <th>k</th>\n      <th>iteration</th>\n      <th>all</th>\n      <th>partition</th>\n      <th>random_1000</th>\n    </tr>\n  </thead>\n  <tbody>\n    <tr>\n      <th>0</th>\n      <td>uniform(-.3,.3)</td>\n      <td>0</td>\n      <td>3</td>\n      <td>5</td>\n      <td>0</td>\n      <td>-0.055635</td>\n      <td>-0.063569</td>\n      <td>0.000052</td>\n    </tr>\n    <tr>\n      <th>1</th>\n      <td>uniform(-.3,.3)</td>\n      <td>0</td>\n      <td>3</td>\n      <td>5</td>\n      <td>1</td>\n      <td>0.000090</td>\n      <td>-0.008620</td>\n      <td>-0.000041</td>\n    </tr>\n    <tr>\n      <th>2</th>\n      <td>uniform(-.3,.3)</td>\n      <td>0</td>\n      <td>3</td>\n      <td>20</td>\n      <td>0</td>\n      <td>0.018566</td>\n      <td>0.007558</td>\n      <td>-0.000016</td>\n    </tr>\n    <tr>\n      <th>3</th>\n      <td>uniform(-.3,.3)</td>\n      <td>0</td>\n      <td>3</td>\n      <td>20</td>\n      <td>1</td>\n      <td>0.018984</td>\n      <td>0.035986</td>\n      <td>-0.000030</td>\n    </tr>\n    <tr>\n      <th>4</th>\n      <td>uniform(-.3,.3)</td>\n      <td>0</td>\n      <td>3</td>\n      <td>50</td>\n      <td>0</td>\n      <td>0.002803</td>\n      <td>-0.003709</td>\n      <td>0.000032</td>\n    </tr>\n    <tr>\n      <th>...</th>\n      <td>...</td>\n      <td>...</td>\n      <td>...</td>\n      <td>...</td>\n      <td>...</td>\n      <td>...</td>\n      <td>...</td>\n      <td>...</td>\n    </tr>\n    <tr>\n      <th>91</th>\n      <td>normal(0,.2^2)</td>\n      <td>1</td>\n      <td>20</td>\n      <td>20</td>\n      <td>1</td>\n      <td>-0.018103</td>\n      <td>0.002784</td>\n      <td>-0.000272</td>\n    </tr>\n    <tr>\n      <th>92</th>\n      <td>normal(0,.2^2)</td>\n      <td>1</td>\n      <td>20</td>\n      <td>50</td>\n      <td>0</td>\n      <td>0.010249</td>\n      <td>0.002374</td>\n      <td>0.000037</td>\n    </tr>\n    <tr>\n      <th>93</th>\n      <td>normal(0,.2^2)</td>\n      <td>1</td>\n      <td>20</td>\n      <td>50</td>\n      <td>1</td>\n      <td>-0.007016</td>\n      <td>0.003198</td>\n      <td>-0.000068</td>\n    </tr>\n    <tr>\n      <th>94</th>\n      <td>normal(0,.2^2)</td>\n      <td>1</td>\n      <td>20</td>\n      <td>100</td>\n      <td>0</td>\n      <td>-0.002322</td>\n      <td>0.000360</td>\n      <td>-0.000078</td>\n    </tr>\n    <tr>\n      <th>95</th>\n      <td>normal(0,.2^2)</td>\n      <td>1</td>\n      <td>20</td>\n      <td>100</td>\n      <td>1</td>\n      <td>-0.000312</td>\n      <td>0.001908</td>\n      <td>0.000013</td>\n    </tr>\n  </tbody>\n</table>\n<p>96 rows × 8 columns</p>\n</div>"
     },
     "execution_count": 12,
     "metadata": {},
     "output_type": "execute_result"
    }
   ],
   "source": [
    "results = pd.read_csv('results.csv')\n",
    "results"
   ],
   "metadata": {
    "collapsed": false,
    "pycharm": {
     "name": "#%%\n"
    }
   }
  },
  {
   "cell_type": "code",
   "execution_count": 17,
   "outputs": [
    {
     "data": {
      "text/plain": "                                               m            k  iteration  \\\nnoise_distribution linear_model_slope                                      \nnormal(0,.2^2)     0                   50.782609  1374.456522    0.26087   \n                   1                   50.782609  1374.456522    0.26087   \nuniform(-.3,.3)    0                   50.782609  1374.456522    0.26087   \n                   1                   50.782609  1374.456522    0.26087   \n\n                                            all  partition   random_1000  \nnoise_distribution linear_model_slope                                     \nnormal(0,.2^2)     0                   0.000255   0.000148  3.102270e-08  \n                   1                   0.000317   0.000324  3.172585e-08  \nuniform(-.3,.3)    0                   0.000330   0.000324  1.550665e-08  \n                   1                   0.000577   0.000337  2.353774e-08  ",
      "text/html": "<div>\n<style scoped>\n    .dataframe tbody tr th:only-of-type {\n        vertical-align: middle;\n    }\n\n    .dataframe tbody tr th {\n        vertical-align: top;\n    }\n\n    .dataframe thead th {\n        text-align: right;\n    }\n</style>\n<table border=\"1\" class=\"dataframe\">\n  <thead>\n    <tr style=\"text-align: right;\">\n      <th></th>\n      <th></th>\n      <th>m</th>\n      <th>k</th>\n      <th>iteration</th>\n      <th>all</th>\n      <th>partition</th>\n      <th>random_1000</th>\n    </tr>\n    <tr>\n      <th>noise_distribution</th>\n      <th>linear_model_slope</th>\n      <th></th>\n      <th></th>\n      <th></th>\n      <th></th>\n      <th></th>\n      <th></th>\n    </tr>\n  </thead>\n  <tbody>\n    <tr>\n      <th rowspan=\"2\" valign=\"top\">normal(0,.2^2)</th>\n      <th>0</th>\n      <td>50.782609</td>\n      <td>1374.456522</td>\n      <td>0.26087</td>\n      <td>0.000255</td>\n      <td>0.000148</td>\n      <td>3.102270e-08</td>\n    </tr>\n    <tr>\n      <th>1</th>\n      <td>50.782609</td>\n      <td>1374.456522</td>\n      <td>0.26087</td>\n      <td>0.000317</td>\n      <td>0.000324</td>\n      <td>3.172585e-08</td>\n    </tr>\n    <tr>\n      <th rowspan=\"2\" valign=\"top\">uniform(-.3,.3)</th>\n      <th>0</th>\n      <td>50.782609</td>\n      <td>1374.456522</td>\n      <td>0.26087</td>\n      <td>0.000330</td>\n      <td>0.000324</td>\n      <td>1.550665e-08</td>\n    </tr>\n    <tr>\n      <th>1</th>\n      <td>50.782609</td>\n      <td>1374.456522</td>\n      <td>0.26087</td>\n      <td>0.000577</td>\n      <td>0.000337</td>\n      <td>2.353774e-08</td>\n    </tr>\n  </tbody>\n</table>\n</div>"
     },
     "execution_count": 17,
     "metadata": {},
     "output_type": "execute_result"
    }
   ],
   "source": [
    "results.groupby(['noise_distribution', 'linear_model_slope']).aggregate('var')"
   ],
   "metadata": {
    "collapsed": false,
    "pycharm": {
     "name": "#%%\n"
    }
   }
  },
  {
   "cell_type": "code",
   "execution_count": null,
   "outputs": [],
   "source": [],
   "metadata": {
    "collapsed": false,
    "pycharm": {
     "name": "#%%\n"
    }
   }
  }
 ],
 "metadata": {
  "kernelspec": {
   "display_name": "Python 3",
   "language": "python",
   "name": "python3"
  },
  "language_info": {
   "codemirror_mode": {
    "name": "ipython",
    "version": 2
   },
   "file_extension": ".py",
   "mimetype": "text/x-python",
   "name": "python",
   "nbconvert_exporter": "python",
   "pygments_lexer": "ipython2",
   "version": "2.7.6"
  }
 },
 "nbformat": 4,
 "nbformat_minor": 0
}