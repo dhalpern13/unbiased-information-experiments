{
 "cells": [
  {
   "cell_type": "code",
   "execution_count": 26,
   "metadata": {
    "collapsed": true
   },
   "outputs": [],
   "source": [
    "import pandas as pd\n",
    "import matplotlib.pyplot as plt"
   ]
  },
  {
   "cell_type": "code",
   "execution_count": 27,
   "outputs": [],
   "source": [
    "results = pd.read_csv('data/results.csv')\n",
    "opt_results = pd.read_csv('data/results-opt.csv')"
   ],
   "metadata": {
    "collapsed": false,
    "pycharm": {
     "name": "#%%\n"
    }
   }
  },
  {
   "cell_type": "code",
   "execution_count": 28,
   "outputs": [],
   "source": [
    "def mean_abs(series):\n",
    "    return series.abs().mean()\n",
    "\n",
    "def mean_square(series):\n",
    "    return series.pow(2).mean()\n",
    "\n",
    "\n",
    "groups_rest = results.groupby(['noise_distribution', 'slope', 'm', 'k'])\n",
    "groups_opt = opt_results.groupby(['noise_distribution', 'slope', 'm', 'k'])\n",
    "\n",
    "mean_abs_rest = groups_rest.agg(mean_abs).reset_index()\n",
    "mean_square_rest = groups_rest.agg(mean_square).reset_index()\n",
    "mean_abs_opt = groups_opt.agg(mean_abs).reset_index()\n",
    "mean_square_opt = groups_opt.agg(mean_square).reset_index()"
   ],
   "metadata": {
    "collapsed": false,
    "pycharm": {
     "name": "#%%\n"
    }
   }
  },
  {
   "cell_type": "code",
   "execution_count": 29,
   "outputs": [],
   "source": [
    "def plot_data(square, noise_dist_index, slope, m):\n",
    "\n",
    "    if square:\n",
    "        rest_data = mean_square_rest\n",
    "        opt_data = mean_square_opt\n",
    "    else:\n",
    "        rest_data = mean_abs_rest\n",
    "        opt_data = mean_abs_opt\n",
    "\n",
    "    noise_dist = rest_data.noise_distribution.unique()[noise_dist_index]\n",
    "    print(noise_dist)\n",
    "\n",
    "\n",
    "    rest_data_filtered = rest_data[(rest_data.noise_distribution == noise_dist)\n",
    "                                & (rest_data.slope == slope)\n",
    "                                & (rest_data.m == m)]\n",
    "\n",
    "\n",
    "    x_vals = [str(i) for i in rest_data.k.unique()]\n",
    "    for alg in ['all', 'partition']:\n",
    "        y_vals = rest_data_filtered[alg]\n",
    "        plt.plot(x_vals, y_vals, label = alg)\n",
    "\n",
    "    opt_data_filtered = opt_data[(opt_data.noise_distribution == noise_dist)\n",
    "                                & (opt_data.slope == slope)\n",
    "                                & (opt_data.m == m)]\n",
    "    opt_vals = opt_data_filtered.opt\n",
    "    plt.plot(x_vals[:len(opt_vals)], opt_vals, label = 'opt')\n",
    "\n",
    "    plt.yscale('log')\n",
    "    plt.legend(loc=\"upper right\")\n",
    "    plt.show()"
   ],
   "metadata": {
    "collapsed": false,
    "pycharm": {
     "name": "#%%\n"
    }
   }
  },
  {
   "cell_type": "code",
   "execution_count": 30,
   "outputs": [
    {
     "name": "stdout",
     "output_type": "stream",
     "text": [
      "uniform(-1,1)\n"
     ]
    },
    {
     "data": {
      "text/plain": "<Figure size 432x288 with 1 Axes>",
      "image/png": "[encoded data removed]"
     },
     "metadata": {
      "needs_background": "light"
     },
     "output_type": "display_data"
    }
   ],
   "source": [
    "square = False\n",
    "noise_dist_index = 3\n",
    "slope = 1\n",
    "m = 3\n",
    "\n",
    "plot_data(square, noise_dist_index, slope, m)\n"
   ],
   "metadata": {
    "collapsed": false,
    "pycharm": {
     "name": "#%%\n"
    }
   }
  },
  {
   "cell_type": "code",
   "execution_count": 86,
   "outputs": [],
   "source": [],
   "metadata": {
    "collapsed": false,
    "pycharm": {
     "name": "#%%\n"
    }
   }
  }
 ],
 "metadata": {
  "kernelspec": {
   "display_name": "Python 3",
   "language": "python",
   "name": "python3"
  },
  "language_info": {
   "codemirror_mode": {
    "name": "ipython",
    "version": 2
   },
   "file_extension": ".py",
   "mimetype": "text/x-python",
   "name": "python",
   "nbconvert_exporter": "python",
   "pygments_lexer": "ipython2",
   "version": "2.7.6"
  }
 },
 "nbformat": 4,
 "nbformat_minor": 0
}